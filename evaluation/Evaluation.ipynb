{
 "cells": [
  {
   "cell_type": "code",
   "execution_count": null,
   "metadata": {},
   "outputs": [],
   "source": [
    "\n",
    "import matplotlib.pyplot as plt\n"
   ]
  },
  {
   "cell_type": "code",
   "execution_count": null,
   "metadata": {},
   "outputs": [],
   "source": [
    "static_data= [29542.57,62961.97,356002.97,3731153.17]\n",
    "edge_data= [5926.73,5994.87,5694.13,6803.13]\n",
    "\n",
    "xaxis = [10, 100, 1000, 10000]\n",
    "plt.figure(figsize=(9,4))\n",
    "\n",
    "plt.plot(static_data, label='cloud',marker=\"x\")\n",
    "plt.plot(edge_data, label='edge',marker=\"v\")\n",
    "\n",
    "plt.ylabel('time (nano seconds) - log scale')\n",
    "plt.xlabel('#offices')\n",
    "\n",
    "plt.title(\"Static Data Increase\")\n",
    "plt.xticks([0,1,2,3],xaxis)\n",
    "plt.legend()\n",
    "plt.yscale('log')\n",
    "plt.show()"
   ]
  },
  {
   "cell_type": "code",
   "execution_count": 15,
   "metadata": {},
   "outputs": [],
   "source": [
    "sensor_data=[184210.93, 1194867.33, 10797487.40, 149115595.93]\n",
    "plt.figure(figsize=(9,4))\n",
    "\n",
    "plt.plot(sensor_data, label='cloud',marker=\"x\")\n",
    "plt.plot(edge_data, label='edge',marker=\"v\")\n",
    "\n",
    "plt.ylabel('time (nano seconds) - log scale')\n",
    "plt.xlabel('#observations')\n",
    "\n",
    "plt.title(\"Sensor Observations Increase\")\n",
    "plt.xticks([0,1,2,3],xaxis)\n",
    "plt.legend()\n",
    "plt.yscale('log')\n",
    "plt.show()\n"
   ]
  },
  {
   "cell_type": "code",
   "execution_count": null,
   "metadata": {},
   "outputs": [],
   "source": [
    "hierarhcy_data = [101186.07, 524376.60, 2382684.47,  25667579.53]\n",
    "hierarchy_edge = [2955.20, 2955.20, 2648.07, 2648.07]\n",
    "plt.figure(figsize=(9,4))\n",
    "\n",
    "plt.plot(hierarhcy_data, label='cloud',marker=\"x\")\n",
    "plt.plot(hierarchy_edge, label='edge',marker=\"v\")\n",
    "\n",
    "plt.ylabel('time (nano seconds) - log scale')\n",
    "plt.xlabel('#rules')\n",
    "\n",
    "plt.title(\"Reasoning Complexity Increase\")\n",
    "plt.xticks([0,1,2,3],xaxis)\n",
    "plt.legend()\n",
    "plt.yscale('log')\n",
    "plt.show()"
   ]
  },
  {
   "cell_type": "code",
   "execution_count": null,
   "metadata": {},
   "outputs": [],
   "source": []
  }
 ],
 "metadata": {
  "kernelspec": {
   "display_name": "Python 3 (ipykernel)",
   "language": "python",
   "name": "python3"
  },
  "language_info": {
   "codemirror_mode": {
    "name": "ipython",
    "version": 2
   },
   "file_extension": ".py",
   "mimetype": "text/x-python",
   "name": "python",
   "nbconvert_exporter": "python",
   "pygments_lexer": "ipython2",
   "version": "2.7.16"
  }
 },
 "nbformat": 4,
 "nbformat_minor": 2
}
